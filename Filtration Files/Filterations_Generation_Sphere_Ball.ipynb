{
 "cells": [
  {
   "cell_type": "code",
   "execution_count": 2,
   "metadata": {},
   "outputs": [],
   "source": [
    "import numpy as np\n",
    "import itertools"
   ]
  },
  {
   "cell_type": "markdown",
   "metadata": {},
   "source": [
    "### D-Ball"
   ]
  },
  {
   "cell_type": "code",
   "execution_count": 16,
   "metadata": {},
   "outputs": [],
   "source": [
    "dimensions = 10\n",
    "# Write the triangulation to a text file\n",
    "for d in range(1, dimensions + 1):\n",
    "    vertices = list(range(1, d + 2))\n",
    "    with open('triangulations_' + str(d) + '-ball.txt', 'w') as f:\n",
    "        for i in range(d):\n",
    "            combinations = list(itertools.combinations(vertices, i + 1))\n",
    "            for combo in combinations:\n",
    "                f.write(2*(str(i) + ' ') + \" \".join(map(str, combo)) + '\\n')\n",
    "        \n",
    "        f.write(2*(str(d) + ' ') + \" \".join(map(str, vertices)) + '\\n')\n",
    "    f.close()"
   ]
  },
  {
   "cell_type": "markdown",
   "metadata": {},
   "source": [
    "### D_Sphere"
   ]
  },
  {
   "cell_type": "code",
   "execution_count": 17,
   "metadata": {},
   "outputs": [],
   "source": [
    "dimensions = 10\n",
    "# Write the triangulation to a text file\n",
    "for d in range(1, dimensions + 1):\n",
    "    vertices = list(range(1, d + 2))\n",
    "    with open('triangulations_' + str(d) + '-sphere.txt', 'w') as f:\n",
    "        for i in range(d):\n",
    "            combinations = list(itertools.combinations(vertices, i + 1))\n",
    "            for combo in combinations:\n",
    "                f.write(2*(str(i) + ' ') + \" \".join(map(str, combo)) + '\\n')\n",
    "    f.close()"
   ]
  }
 ],
 "metadata": {
  "kernelspec": {
   "display_name": "analyse_images",
   "language": "python",
   "name": "python3"
  },
  "language_info": {
   "codemirror_mode": {
    "name": "ipython",
    "version": 3
   },
   "file_extension": ".py",
   "mimetype": "text/x-python",
   "name": "python",
   "nbconvert_exporter": "python",
   "pygments_lexer": "ipython3",
   "version": "3.8.16"
  }
 },
 "nbformat": 4,
 "nbformat_minor": 2
}
